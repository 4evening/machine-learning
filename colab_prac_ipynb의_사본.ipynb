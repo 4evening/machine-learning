{
  "nbformat": 4,
  "nbformat_minor": 0,
  "metadata": {
    "colab": {
      "provenance": [],
      "include_colab_link": true
    },
    "kernelspec": {
      "name": "python3",
      "display_name": "Python 3"
    },
    "language_info": {
      "name": "python"
    }
  },
  "cells": [
    {
      "cell_type": "markdown",
      "metadata": {
        "id": "view-in-github",
        "colab_type": "text"
      },
      "source": [
        "<a href=\"https://colab.research.google.com/github/4evening/machine-learning/blob/main/colab_prac_ipynb%EC%9D%98_%EC%82%AC%EB%B3%B8.ipynb\" target=\"_parent\"><img src=\"https://colab.research.google.com/assets/colab-badge.svg\" alt=\"Open In Colab\"/></a>"
      ]
    },
    {
      "cell_type": "markdown",
      "source": [
        "## Week2 Colab practice\n",
        "\n",
        "Follow the instructions below\n",
        "\n",
        "  1) Mount google drive    \n",
        "  2) type the command below\n",
        "```\n",
        "!cd drive/MyDrive/\n",
        "!git clone https://github.com/stefmolin/Hands-On-Data-Analysis-with-Pandas-2nd-edition.git\n",
        "```\n"
      ],
      "metadata": {
        "id": "YlC8D9grHY59"
      }
    },
    {
      "cell_type": "code",
      "source": [
        "!cd drive/MyDrive/\n",
        "!git clone https://github.com/stefmolin/Hands-On-Data-Analysis-with-Pandas-2nd-edition.git"
      ],
      "metadata": {
        "id": "L504hn6e6OVq",
        "outputId": "b66a75bf-07c6-42f8-fcba-12c4b2495a56",
        "colab": {
          "base_uri": "https://localhost:8080/"
        }
      },
      "execution_count": null,
      "outputs": [
        {
          "output_type": "stream",
          "name": "stdout",
          "text": [
            "/bin/bash: line 0: cd: drive/MyDrive/: No such file or directory\n",
            "Cloning into 'Hands-On-Data-Analysis-with-Pandas-2nd-edition'...\n",
            "remote: Enumerating objects: 3310, done.\u001b[K\n",
            "remote: Counting objects: 100% (3310/3310), done.\u001b[K\n",
            "remote: Compressing objects: 100% (1191/1191), done.\u001b[K\n",
            "remote: Total 3310 (delta 2065), reused 3263 (delta 2056), pack-reused 0\u001b[K\n",
            "Receiving objects: 100% (3310/3310), 74.09 MiB | 25.35 MiB/s, done.\n",
            "Resolving deltas: 100% (2065/2065), done.\n"
          ]
        }
      ]
    },
    {
      "cell_type": "markdown",
      "source": [
        "## Preparation codes for ch1"
      ],
      "metadata": {
        "id": "M3R1Z9YgIdUT"
      }
    },
    {
      "cell_type": "code",
      "source": [
        "import sys\n",
        "sys.path.append('/content/drive/MyDrive/Hands-On-Data-Analysis-with-Pandas-2nd-edition/visual-aids/')\n",
        "\n",
        "from visual_aids import stats_viz"
      ],
      "metadata": {
        "id": "OoiNZMfOHfgz",
        "outputId": "e2c39cbe-cbe7-4534-cee2-4596d3ab7c10",
        "colab": {
          "base_uri": "https://localhost:8080/",
          "height": 334
        }
      },
      "execution_count": null,
      "outputs": [
        {
          "output_type": "error",
          "ename": "ModuleNotFoundError",
          "evalue": "ignored",
          "traceback": [
            "\u001b[0;31m---------------------------------------------------------------------------\u001b[0m",
            "\u001b[0;31mModuleNotFoundError\u001b[0m                       Traceback (most recent call last)",
            "\u001b[0;32m<ipython-input-1-7898396d2655>\u001b[0m in \u001b[0;36m<module>\u001b[0;34m\u001b[0m\n\u001b[1;32m      2\u001b[0m \u001b[0msys\u001b[0m\u001b[0;34m.\u001b[0m\u001b[0mpath\u001b[0m\u001b[0;34m.\u001b[0m\u001b[0mappend\u001b[0m\u001b[0;34m(\u001b[0m\u001b[0;34m'/content/drive/MyDrive/Hands-On-Data-Analysis-with-Pandas-2nd-edition/visual-aids/'\u001b[0m\u001b[0;34m)\u001b[0m\u001b[0;34m\u001b[0m\u001b[0;34m\u001b[0m\u001b[0m\n\u001b[1;32m      3\u001b[0m \u001b[0;34m\u001b[0m\u001b[0m\n\u001b[0;32m----> 4\u001b[0;31m \u001b[0;32mfrom\u001b[0m \u001b[0mvisual_aids\u001b[0m \u001b[0;32mimport\u001b[0m \u001b[0mstats_viz\u001b[0m\u001b[0;34m\u001b[0m\u001b[0;34m\u001b[0m\u001b[0m\n\u001b[0m",
            "\u001b[0;31mModuleNotFoundError\u001b[0m: No module named 'visual_aids'",
            "",
            "\u001b[0;31m---------------------------------------------------------------------------\u001b[0;32m\nNOTE: If your import is failing due to a missing package, you can\nmanually install dependencies using either !pip or !apt.\n\nTo view examples of installing some common dependencies, click the\n\"Open Examples\" button below.\n\u001b[0;31m---------------------------------------------------------------------------\u001b[0m\n"
          ],
          "errorDetails": {
            "actions": [
              {
                "action": "open_url",
                "actionText": "Open Examples",
                "url": "/notebooks/snippets/importing_libraries.ipynb"
              }
            ]
          }
        }
      ]
    },
    {
      "cell_type": "markdown",
      "source": [
        "## Save this notbook to your repository\n",
        "\n",
        "File -> Save a copy in a github"
      ],
      "metadata": {
        "id": "a8nCXFX4Iiy8"
      }
    },
    {
      "cell_type": "code",
      "source": [],
      "metadata": {
        "id": "GMHZ4Y_oIaM8"
      },
      "execution_count": null,
      "outputs": []
    }
  ]
}