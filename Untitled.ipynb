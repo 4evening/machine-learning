{
  "nbformat": 4,
  "nbformat_minor": 0,
  "metadata": {
    "colab": {
      "provenance": [],
      "authorship_tag": "ABX9TyNH5gQm7GkjvANxMn1yKiKC",
      "include_colab_link": true
    },
    "kernelspec": {
      "name": "python3",
      "display_name": "Python 3"
    },
    "language_info": {
      "name": "python"
    }
  },
  "cells": [
    {
      "cell_type": "markdown",
      "metadata": {
        "id": "view-in-github",
        "colab_type": "text"
      },
      "source": [
        "<a href=\"https://colab.research.google.com/github/4evening/machine-learning/blob/main/Untitled.ipynb\" target=\"_parent\"><img src=\"https://colab.research.google.com/assets/colab-badge.svg\" alt=\"Open In Colab\"/></a>"
      ]
    },
    {
      "cell_type": "code",
      "execution_count": 1,
      "metadata": {
        "colab": {
          "base_uri": "https://localhost:8080/"
        },
        "id": "cwNqPh8fsp0h",
        "outputId": "f481735d-3b3e-454b-9a8d-a97b1ec72785"
      },
      "outputs": [
        {
          "output_type": "stream",
          "name": "stdout",
          "text": [
            "/bin/bash: line 0: cd: drive/MyDrive/: No such file or directory\n",
            "Cloning into 'Hands-On-Data-Analysis-with-Pandas-2nd-edition'...\n",
            "remote: Enumerating objects: 3310, done.\u001b[K\n",
            "remote: Counting objects: 100% (3310/3310), done.\u001b[K\n",
            "remote: Compressing objects: 100% (1190/1190), done.\u001b[K\n",
            "remote: Total 3310 (delta 2066), reused 3266 (delta 2057), pack-reused 0\u001b[K\n",
            "Receiving objects: 100% (3310/3310), 74.09 MiB | 26.60 MiB/s, done.\n",
            "Resolving deltas: 100% (2066/2066), done.\n"
          ]
        }
      ],
      "source": [
        "!cd drive/MyDrive/\n",
        "!git clone https://github.com/stefmolin/Hands-On-Data-Analysis-with-Pandas-2nd-edition.git"
      ]
    }
  ]
}